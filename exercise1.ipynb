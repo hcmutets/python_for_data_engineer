{
 "cells": [
  {
   "cell_type": "markdown",
   "metadata": {},
   "source": [
    "## Bài 1"
   ]
  },
  {
   "cell_type": "code",
   "execution_count": 41,
   "metadata": {},
   "outputs": [
    {
     "name": "stdout",
     "output_type": "stream",
     "text": [
      "So phan tu =10\n",
      "Phan tu thu 0 = 1\n",
      "Phan tu thu 1 = 2\n",
      "Phan tu thu 2 = 3\n",
      "Phan tu thu 3 = 4\n",
      "Phan tu thu 4 = 5\n",
      "Phan tu thu 5 = 6\n",
      "Phan tu thu 6 = 7\n",
      "Phan tu thu 7 = 8\n",
      "Phan tu thu 8 = 9\n",
      "Phan tu thu 9 = 10\n",
      "Trung binh cong = 5.5\n"
     ]
    }
   ],
   "source": [
    "n = int(input(\"So phan tu =\"))\n",
    "my_list = list()\n",
    "for i in range(n):\n",
    "    my_list.append(int(input(f\"Phan tu thu {i} = \")))\n",
    "print(f\"Trung binh cong = {sum(my_list)/len(my_list)}\")"
   ]
  },
  {
   "cell_type": "markdown",
   "metadata": {},
   "source": [
    "## Bài 2"
   ]
  },
  {
   "cell_type": "code",
   "execution_count": 42,
   "metadata": {},
   "outputs": [
    {
     "name": "stdout",
     "output_type": "stream",
     "text": [
      "x = 2\n",
      "y = 3\n",
      "x = 3\n",
      "y = 2\n"
     ]
    }
   ],
   "source": [
    "x = input(\"x = \")\n",
    "y = input(\"y = \")\n",
    "x,y = y,x\n",
    "print(f\"x = {x}\\ny = {y}\")"
   ]
  },
  {
   "cell_type": "markdown",
   "metadata": {},
   "source": [
    "## Bài 3"
   ]
  },
  {
   "cell_type": "code",
   "execution_count": 43,
   "metadata": {},
   "outputs": [],
   "source": [
    "def cal(n):\n",
    "    sum = 0\n",
    "    for i in range(1,4):\n",
    "        sum += int(n*i)\n",
    "    return sum"
   ]
  },
  {
   "cell_type": "code",
   "execution_count": 44,
   "metadata": {},
   "outputs": [
    {
     "name": "stdout",
     "output_type": "stream",
     "text": [
      "Nhap n = 2\n",
      "Tong = 246\n"
     ]
    }
   ],
   "source": [
    "n = str(input(\"Nhap n = \"))\n",
    "print(f\"Tong = {cal(n)}\")"
   ]
  },
  {
   "cell_type": "markdown",
   "metadata": {},
   "source": [
    "## Bài 4"
   ]
  },
  {
   "cell_type": "code",
   "execution_count": 45,
   "metadata": {},
   "outputs": [],
   "source": [
    "def drawUnitMatrix(n):\n",
    "    for i in range(1,n+1):\n",
    "        s = \"\"\n",
    "        for j in range(1,n+1):\n",
    "            if (i == j):\n",
    "                s+=\"1 \"\n",
    "            else:\n",
    "                s+=\"0 \"\n",
    "        print(s)"
   ]
  },
  {
   "cell_type": "code",
   "execution_count": 46,
   "metadata": {},
   "outputs": [
    {
     "name": "stdout",
     "output_type": "stream",
     "text": [
      "n = 4\n",
      "1 0 0 0 \n",
      "0 1 0 0 \n",
      "0 0 1 0 \n",
      "0 0 0 1 \n"
     ]
    }
   ],
   "source": [
    "n = input(\"n = \")\n",
    "drawUnitMatrix(int(n))"
   ]
  },
  {
   "cell_type": "markdown",
   "metadata": {},
   "source": [
    "## Bài 5"
   ]
  },
  {
   "cell_type": "code",
   "execution_count": 47,
   "metadata": {},
   "outputs": [],
   "source": [
    "def secondMax(my_list):\n",
    "    my_list[my_list.index(max(my_list))] = min(my_list)\n",
    "    return max(my_list)"
   ]
  },
  {
   "cell_type": "code",
   "execution_count": 48,
   "metadata": {},
   "outputs": [
    {
     "name": "stdout",
     "output_type": "stream",
     "text": [
      "So phan tu =5\n",
      "Nhap nhap tu thu 0 =1\n",
      "Nhap nhap tu thu 1 =2\n",
      "Nhap nhap tu thu 2 =3\n",
      "Nhap nhap tu thu 3 =4\n",
      "Nhap nhap tu thu 4 =5\n",
      "So lon thu hai trong danh sach = 4\n"
     ]
    }
   ],
   "source": [
    "n = int(input(\"So phan tu =\"))\n",
    "my_list = list()\n",
    "for i in range(n):\n",
    "    my_list.append(int(input(f\"Nhap nhap tu thu {i} =\")))\n",
    "print(f\"So lon thu hai trong danh sach = {secondMax(my_list)}\")"
   ]
  },
  {
   "cell_type": "markdown",
   "metadata": {},
   "source": [
    "## Bài 6"
   ]
  },
  {
   "cell_type": "code",
   "execution_count": 49,
   "metadata": {},
   "outputs": [
    {
     "name": "stdout",
     "output_type": "stream",
     "text": [
      "So phan tu =3\n",
      "Nhap chuoi thu 0 :Thanh Sang\n",
      "Nhap chuoi thu 1 :Tdjas\n",
      "Nhap chuoi thu 2 :Thanh Sang\n",
      "Tu dai nhat: Thanh Sang\n"
     ]
    }
   ],
   "source": [
    "n = int(input(\"So phan tu =\"))\n",
    "str_list = list()\n",
    "for i in range(n):\n",
    "    str_list.append(input(f\"Nhap chuoi thu {i} :\"))\n",
    "len_list = list(map(len,str_list))\n",
    "result = str_list[len_list.index(max(len_list))]\n",
    "print(f\"Tu dai nhat: {result}\")\n"
   ]
  },
  {
   "cell_type": "markdown",
   "metadata": {},
   "source": [
    "## Bài 7"
   ]
  },
  {
   "cell_type": "code",
   "execution_count": 50,
   "metadata": {},
   "outputs": [
    {
     "name": "stdout",
     "output_type": "stream",
     "text": [
      "n = 3\n",
      "6\n"
     ]
    }
   ],
   "source": [
    "n = int(input(\"n = \"))\n",
    "result = sum(range(n+1))\n",
    "print(result)"
   ]
  },
  {
   "cell_type": "markdown",
   "metadata": {},
   "source": [
    "## Bài 8"
   ]
  },
  {
   "cell_type": "code",
   "execution_count": 51,
   "metadata": {},
   "outputs": [],
   "source": [
    "def isPalindrome(x):\n",
    "    return x == x[::-1]"
   ]
  },
  {
   "cell_type": "code",
   "execution_count": 52,
   "metadata": {},
   "outputs": [
    {
     "name": "stdout",
     "output_type": "stream",
     "text": [
      "Hay nhap chuoi: tsst\n",
      "Chuoi da nhap la Palindrome\n"
     ]
    }
   ],
   "source": [
    "my_str = input(\"Hay nhap chuoi: \")\n",
    "if (isPalindrome(x)):\n",
    "    print(\"Chuoi da nhap la Palindrome\")\n",
    "else:\n",
    "    print(\"Chuoi da nhap khong la palindrome\")"
   ]
  },
  {
   "cell_type": "markdown",
   "metadata": {},
   "source": [
    "## Bài 9"
   ]
  },
  {
   "cell_type": "code",
   "execution_count": 57,
   "metadata": {},
   "outputs": [],
   "source": [
    "def sumFromString(my_str):\n",
    "    sum = 0\n",
    "    for x in my_str:\n",
    "        if (x.isdigit()):\n",
    "            sum += int(x)\n",
    "    return sum"
   ]
  },
  {
   "cell_type": "code",
   "execution_count": 58,
   "metadata": {},
   "outputs": [
    {
     "name": "stdout",
     "output_type": "stream",
     "text": [
      "Hay nhap mot so: 3g2g3g\n",
      "Tong cac ky tu cua so vua nhap = 8\n"
     ]
    }
   ],
   "source": [
    "my_str = input('Hay nhap mot so: ')\n",
    "print(f\"Tong cac ky tu cua so vua nhap = {sumFromString(my_str)}\")"
   ]
  },
  {
   "cell_type": "markdown",
   "metadata": {},
   "source": [
    "## Bài 10\n"
   ]
  },
  {
   "cell_type": "code",
   "execution_count": 55,
   "metadata": {},
   "outputs": [],
   "source": [
    "def digitCount(my_str):\n",
    "    count = 0\n",
    "    for x in my_str:\n",
    "        if (x.isdigit()):\n",
    "            count +=1\n",
    "    return count"
   ]
  },
  {
   "cell_type": "code",
   "execution_count": 56,
   "metadata": {},
   "outputs": [
    {
     "name": "stdout",
     "output_type": "stream",
     "text": [
      "Hay nhap mot so:d5w5a5q5\n",
      "So ky tu so = 4\n"
     ]
    }
   ],
   "source": [
    "my_str = input(\"Hay nhap mot so:\")\n",
    "print(f\"So ky tu so = {digitCount(my_str)}\")"
   ]
  }
 ],
 "metadata": {
  "kernelspec": {
   "display_name": "Python 3",
   "language": "python",
   "name": "python3"
  },
  "language_info": {
   "codemirror_mode": {
    "name": "ipython",
    "version": 3
   },
   "file_extension": ".py",
   "mimetype": "text/x-python",
   "name": "python",
   "nbconvert_exporter": "python",
   "pygments_lexer": "ipython3",
   "version": "3.7.4"
  }
 },
 "nbformat": 4,
 "nbformat_minor": 2
}
